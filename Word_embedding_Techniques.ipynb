{
  "cells": [
    {
      "cell_type": "markdown",
      "metadata": {
        "id": "eHNf7J680XF-"
      },
      "source": [
        "### Word Embedding Techniques using Embedding Layer in Keras"
      ]
    },
    {
      "cell_type": "markdown",
      "metadata": {},
      "source": [
        "pip install --target=C:\\tensorflow tensorflow\n"
      ]
    },
    {
      "cell_type": "code",
      "execution_count": 2,
      "metadata": {},
      "outputs": [],
      "source": [
        "import sys\n",
        "sys.path.append(\"C:\\\\tensorflow\")"
      ]
    },
    {
      "cell_type": "code",
      "execution_count": 4,
      "metadata": {},
      "outputs": [
        {
          "name": "stdout",
          "output_type": "stream",
          "text": [
            "Defaulting to user installation because normal site-packages is not writeableNote: you may need to restart the kernel to use updated packages.\n"
          ]
        },
        {
          "name": "stderr",
          "output_type": "stream",
          "text": [
            "\n",
            "[notice] A new release of pip is available: 24.2 -> 25.0.1\n",
            "[notice] To update, run: python.exe -m pip install --upgrade pip\n"
          ]
        },
        {
          "name": "stdout",
          "output_type": "stream",
          "text": [
            "\n",
            "Requirement already satisfied: tensorflow in c:\\program files\\python312\\lib\\site-packages (2.19.0)\n",
            "Requirement already satisfied: absl-py>=1.0.0 in c:\\users\\admin\\appdata\\roaming\\python\\python312\\site-packages (from tensorflow) (2.1.0)\n",
            "Requirement already satisfied: astunparse>=1.6.0 in c:\\users\\admin\\appdata\\roaming\\python\\python312\\site-packages (from tensorflow) (1.6.3)\n",
            "Requirement already satisfied: flatbuffers>=24.3.25 in c:\\users\\admin\\appdata\\roaming\\python\\python312\\site-packages (from tensorflow) (24.3.25)\n",
            "Requirement already satisfied: gast!=0.5.0,!=0.5.1,!=0.5.2,>=0.2.1 in c:\\users\\admin\\appdata\\roaming\\python\\python312\\site-packages (from tensorflow) (0.6.0)\n",
            "Requirement already satisfied: google-pasta>=0.1.1 in c:\\users\\admin\\appdata\\roaming\\python\\python312\\site-packages (from tensorflow) (0.2.0)\n",
            "Requirement already satisfied: libclang>=13.0.0 in c:\\users\\admin\\appdata\\roaming\\python\\python312\\site-packages (from tensorflow) (18.1.1)\n",
            "Requirement already satisfied: opt-einsum>=2.3.2 in c:\\users\\admin\\appdata\\roaming\\python\\python312\\site-packages (from tensorflow) (3.3.0)\n",
            "Requirement already satisfied: packaging in c:\\users\\admin\\appdata\\roaming\\python\\python312\\site-packages (from tensorflow) (24.0)\n",
            "Requirement already satisfied: protobuf!=4.21.0,!=4.21.1,!=4.21.2,!=4.21.3,!=4.21.4,!=4.21.5,<6.0.0dev,>=3.20.3 in c:\\users\\admin\\appdata\\roaming\\python\\python312\\site-packages (from tensorflow) (4.25.4)\n",
            "Requirement already satisfied: requests<3,>=2.21.0 in c:\\users\\admin\\appdata\\roaming\\python\\python312\\site-packages (from tensorflow) (2.32.3)\n",
            "Requirement already satisfied: setuptools in c:\\users\\admin\\appdata\\roaming\\python\\python312\\site-packages (from tensorflow) (74.1.2)\n",
            "Requirement already satisfied: six>=1.12.0 in c:\\users\\admin\\appdata\\roaming\\python\\python312\\site-packages (from tensorflow) (1.16.0)\n",
            "Requirement already satisfied: termcolor>=1.1.0 in c:\\users\\admin\\appdata\\roaming\\python\\python312\\site-packages (from tensorflow) (2.4.0)\n",
            "Requirement already satisfied: typing-extensions>=3.6.6 in c:\\users\\admin\\appdata\\roaming\\python\\python312\\site-packages (from tensorflow) (4.12.2)\n",
            "Requirement already satisfied: wrapt>=1.11.0 in c:\\users\\admin\\appdata\\roaming\\python\\python312\\site-packages (from tensorflow) (1.16.0)\n",
            "Requirement already satisfied: grpcio<2.0,>=1.24.3 in c:\\users\\admin\\appdata\\roaming\\python\\python312\\site-packages (from tensorflow) (1.66.1)\n",
            "Requirement already satisfied: tensorboard~=2.19.0 in c:\\users\\admin\\appdata\\roaming\\python\\python312\\site-packages (from tensorflow) (2.19.0)\n",
            "Requirement already satisfied: keras>=3.5.0 in c:\\users\\admin\\appdata\\roaming\\python\\python312\\site-packages (from tensorflow) (3.5.0)\n",
            "Requirement already satisfied: numpy<2.2.0,>=1.26.0 in c:\\users\\admin\\appdata\\roaming\\python\\python312\\site-packages (from tensorflow) (1.26.4)\n",
            "Requirement already satisfied: h5py>=3.11.0 in c:\\users\\admin\\appdata\\roaming\\python\\python312\\site-packages (from tensorflow) (3.11.0)\n",
            "Requirement already satisfied: ml-dtypes<1.0.0,>=0.5.1 in c:\\users\\admin\\appdata\\roaming\\python\\python312\\site-packages (from tensorflow) (0.5.1)\n",
            "Requirement already satisfied: wheel<1.0,>=0.23.0 in c:\\users\\admin\\appdata\\roaming\\python\\python312\\site-packages (from astunparse>=1.6.0->tensorflow) (0.44.0)\n",
            "Requirement already satisfied: rich in c:\\users\\admin\\appdata\\roaming\\python\\python312\\site-packages (from keras>=3.5.0->tensorflow) (13.8.0)\n",
            "Requirement already satisfied: namex in c:\\users\\admin\\appdata\\roaming\\python\\python312\\site-packages (from keras>=3.5.0->tensorflow) (0.0.8)\n",
            "Requirement already satisfied: optree in c:\\users\\admin\\appdata\\roaming\\python\\python312\\site-packages (from keras>=3.5.0->tensorflow) (0.12.1)\n",
            "Requirement already satisfied: charset-normalizer<4,>=2 in c:\\users\\admin\\appdata\\roaming\\python\\python312\\site-packages (from requests<3,>=2.21.0->tensorflow) (3.3.2)\n",
            "Requirement already satisfied: idna<4,>=2.5 in c:\\users\\admin\\appdata\\roaming\\python\\python312\\site-packages (from requests<3,>=2.21.0->tensorflow) (3.8)\n",
            "Requirement already satisfied: urllib3<3,>=1.21.1 in c:\\users\\admin\\appdata\\roaming\\python\\python312\\site-packages (from requests<3,>=2.21.0->tensorflow) (2.2.2)\n",
            "Requirement already satisfied: certifi>=2017.4.17 in c:\\users\\admin\\appdata\\roaming\\python\\python312\\site-packages (from requests<3,>=2.21.0->tensorflow) (2024.8.30)\n",
            "Requirement already satisfied: markdown>=2.6.8 in c:\\users\\admin\\appdata\\roaming\\python\\python312\\site-packages (from tensorboard~=2.19.0->tensorflow) (3.7)\n",
            "Requirement already satisfied: tensorboard-data-server<0.8.0,>=0.7.0 in c:\\users\\admin\\appdata\\roaming\\python\\python312\\site-packages (from tensorboard~=2.19.0->tensorflow) (0.7.2)\n",
            "Requirement already satisfied: werkzeug>=1.0.1 in c:\\users\\admin\\appdata\\roaming\\python\\python312\\site-packages (from tensorboard~=2.19.0->tensorflow) (3.0.4)\n",
            "Requirement already satisfied: MarkupSafe>=2.1.1 in c:\\users\\admin\\appdata\\roaming\\python\\python312\\site-packages (from werkzeug>=1.0.1->tensorboard~=2.19.0->tensorflow) (2.1.5)\n",
            "Requirement already satisfied: markdown-it-py>=2.2.0 in c:\\users\\admin\\appdata\\roaming\\python\\python312\\site-packages (from rich->keras>=3.5.0->tensorflow) (3.0.0)\n",
            "Requirement already satisfied: pygments<3.0.0,>=2.13.0 in c:\\users\\admin\\appdata\\roaming\\python\\python312\\site-packages (from rich->keras>=3.5.0->tensorflow) (2.18.0)\n",
            "Requirement already satisfied: mdurl~=0.1 in c:\\users\\admin\\appdata\\roaming\\python\\python312\\site-packages (from markdown-it-py>=2.2.0->rich->keras>=3.5.0->tensorflow) (0.1.2)\n"
          ]
        }
      ],
      "source": [
        "pip install tensorflow"
      ]
    },
    {
      "cell_type": "code",
      "execution_count": null,
      "metadata": {
        "colab": {
          "base_uri": "https://localhost:8080/"
        },
        "id": "yZ5hceiMAX7n",
        "outputId": "f8adfe31-96ee-4fa1-b3b9-17edc8bb3ee8"
      },
      "outputs": [
        {
          "ename": "ImportError",
          "evalue": "Traceback (most recent call last):\n  File \"c:\\Program Files\\Python312\\Lib\\site-packages\\tensorflow\\python\\pywrap_tensorflow.py\", line 73, in <module>\n    from tensorflow.python._pywrap_tensorflow_internal import *\nImportError: DLL load failed while importing _pywrap_tensorflow_internal: A dynamic link library (DLL) initialization routine failed.\n\n\nFailed to load the native TensorFlow runtime.\nSee https://www.tensorflow.org/install/errors for some common causes and solutions.\nIf you need help, create an issue at https://github.com/tensorflow/tensorflow/issues and include the entire stack trace above this error message.",
          "output_type": "error",
          "traceback": [
            "\u001b[1;31m---------------------------------------------------------------------------\u001b[0m",
            "\u001b[1;31mImportError\u001b[0m                               Traceback (most recent call last)",
            "File \u001b[1;32mc:\\Program Files\\Python312\\Lib\\site-packages\\tensorflow\\python\\pywrap_tensorflow.py:73\u001b[0m\n\u001b[0;32m     72\u001b[0m \u001b[38;5;28;01mtry\u001b[39;00m:\n\u001b[1;32m---> 73\u001b[0m   \u001b[38;5;28;01mfrom\u001b[39;00m \u001b[38;5;21;01mtensorflow\u001b[39;00m\u001b[38;5;21;01m.\u001b[39;00m\u001b[38;5;21;01mpython\u001b[39;00m\u001b[38;5;21;01m.\u001b[39;00m\u001b[38;5;21;01m_pywrap_tensorflow_internal\u001b[39;00m \u001b[38;5;28;01mimport\u001b[39;00m \u001b[38;5;241m*\u001b[39m\n\u001b[0;32m     74\u001b[0m \u001b[38;5;66;03m# This try catch logic is because there is no bazel equivalent for py_extension.\u001b[39;00m\n\u001b[0;32m     75\u001b[0m \u001b[38;5;66;03m# Externally in opensource we must enable exceptions to load the shared object\u001b[39;00m\n\u001b[0;32m     76\u001b[0m \u001b[38;5;66;03m# by exposing the PyInit symbols with pybind. This error will only be\u001b[39;00m\n\u001b[0;32m     77\u001b[0m \u001b[38;5;66;03m# caught internally or if someone changes the name of the target _pywrap_tensorflow_internal.\u001b[39;00m\n\u001b[0;32m     78\u001b[0m \n\u001b[0;32m     79\u001b[0m \u001b[38;5;66;03m# This logic is used in other internal projects using py_extension.\u001b[39;00m\n",
            "\u001b[1;31mImportError\u001b[0m: DLL load failed while importing _pywrap_tensorflow_internal: A dynamic link library (DLL) initialization routine failed.",
            "\nDuring handling of the above exception, another exception occurred:\n",
            "\u001b[1;31mImportError\u001b[0m                               Traceback (most recent call last)",
            "Cell \u001b[1;32mIn[6], line 1\u001b[0m\n\u001b[1;32m----> 1\u001b[0m \u001b[38;5;28;01mimport\u001b[39;00m \u001b[38;5;21;01mtensorflow\u001b[39;00m \u001b[38;5;28;01mas\u001b[39;00m \u001b[38;5;21;01mtf_hub\u001b[39;00m\n\u001b[0;32m      2\u001b[0m \u001b[38;5;28mprint\u001b[39m(tf\u001b[38;5;241m.\u001b[39m__version__)\n",
            "File \u001b[1;32mc:\\Program Files\\Python312\\Lib\\site-packages\\tensorflow\\__init__.py:40\u001b[0m\n\u001b[0;32m     37\u001b[0m _os\u001b[38;5;241m.\u001b[39menviron\u001b[38;5;241m.\u001b[39msetdefault(\u001b[38;5;124m\"\u001b[39m\u001b[38;5;124mENABLE_RUNTIME_UPTIME_TELEMETRY\u001b[39m\u001b[38;5;124m\"\u001b[39m, \u001b[38;5;124m\"\u001b[39m\u001b[38;5;124m1\u001b[39m\u001b[38;5;124m\"\u001b[39m)\n\u001b[0;32m     39\u001b[0m \u001b[38;5;66;03m# Do not remove this line; See https://github.com/tensorflow/tensorflow/issues/42596\u001b[39;00m\n\u001b[1;32m---> 40\u001b[0m \u001b[38;5;28;01mfrom\u001b[39;00m \u001b[38;5;21;01mtensorflow\u001b[39;00m\u001b[38;5;21;01m.\u001b[39;00m\u001b[38;5;21;01mpython\u001b[39;00m \u001b[38;5;28;01mimport\u001b[39;00m pywrap_tensorflow \u001b[38;5;28;01mas\u001b[39;00m _pywrap_tensorflow  \u001b[38;5;66;03m# pylint: disable=unused-import\u001b[39;00m\n\u001b[0;32m     41\u001b[0m \u001b[38;5;28;01mfrom\u001b[39;00m \u001b[38;5;21;01mtensorflow\u001b[39;00m\u001b[38;5;21;01m.\u001b[39;00m\u001b[38;5;21;01mpython\u001b[39;00m\u001b[38;5;21;01m.\u001b[39;00m\u001b[38;5;21;01mtools\u001b[39;00m \u001b[38;5;28;01mimport\u001b[39;00m module_util \u001b[38;5;28;01mas\u001b[39;00m _module_util\n\u001b[0;32m     42\u001b[0m \u001b[38;5;28;01mfrom\u001b[39;00m \u001b[38;5;21;01mtensorflow\u001b[39;00m\u001b[38;5;21;01m.\u001b[39;00m\u001b[38;5;21;01mpython\u001b[39;00m\u001b[38;5;21;01m.\u001b[39;00m\u001b[38;5;21;01mutil\u001b[39;00m\u001b[38;5;21;01m.\u001b[39;00m\u001b[38;5;21;01mlazy_loader\u001b[39;00m \u001b[38;5;28;01mimport\u001b[39;00m KerasLazyLoader \u001b[38;5;28;01mas\u001b[39;00m _KerasLazyLoader\n",
            "File \u001b[1;32mc:\\Program Files\\Python312\\Lib\\site-packages\\tensorflow\\python\\pywrap_tensorflow.py:88\u001b[0m\n\u001b[0;32m     86\u001b[0m     sys\u001b[38;5;241m.\u001b[39msetdlopenflags(_default_dlopen_flags)\n\u001b[0;32m     87\u001b[0m \u001b[38;5;28;01mexcept\u001b[39;00m \u001b[38;5;167;01mImportError\u001b[39;00m:\n\u001b[1;32m---> 88\u001b[0m   \u001b[38;5;28;01mraise\u001b[39;00m \u001b[38;5;167;01mImportError\u001b[39;00m(\n\u001b[0;32m     89\u001b[0m       \u001b[38;5;124mf\u001b[39m\u001b[38;5;124m'\u001b[39m\u001b[38;5;132;01m{\u001b[39;00mtraceback\u001b[38;5;241m.\u001b[39mformat_exc()\u001b[38;5;132;01m}\u001b[39;00m\u001b[38;5;124m'\u001b[39m\n\u001b[0;32m     90\u001b[0m       \u001b[38;5;124mf\u001b[39m\u001b[38;5;124m'\u001b[39m\u001b[38;5;130;01m\\n\u001b[39;00m\u001b[38;5;130;01m\\n\u001b[39;00m\u001b[38;5;124mFailed to load the native TensorFlow runtime.\u001b[39m\u001b[38;5;130;01m\\n\u001b[39;00m\u001b[38;5;124m'\u001b[39m\n\u001b[0;32m     91\u001b[0m       \u001b[38;5;124mf\u001b[39m\u001b[38;5;124m'\u001b[39m\u001b[38;5;124mSee https://www.tensorflow.org/install/errors \u001b[39m\u001b[38;5;124m'\u001b[39m\n\u001b[0;32m     92\u001b[0m       \u001b[38;5;124mf\u001b[39m\u001b[38;5;124m'\u001b[39m\u001b[38;5;124mfor some common causes and solutions.\u001b[39m\u001b[38;5;130;01m\\n\u001b[39;00m\u001b[38;5;124m'\u001b[39m\n\u001b[0;32m     93\u001b[0m       \u001b[38;5;124mf\u001b[39m\u001b[38;5;124m'\u001b[39m\u001b[38;5;124mIf you need help, create an issue \u001b[39m\u001b[38;5;124m'\u001b[39m\n\u001b[0;32m     94\u001b[0m       \u001b[38;5;124mf\u001b[39m\u001b[38;5;124m'\u001b[39m\u001b[38;5;124mat https://github.com/tensorflow/tensorflow/issues \u001b[39m\u001b[38;5;124m'\u001b[39m\n\u001b[0;32m     95\u001b[0m       \u001b[38;5;124mf\u001b[39m\u001b[38;5;124m'\u001b[39m\u001b[38;5;124mand include the entire stack trace above this error message.\u001b[39m\u001b[38;5;124m'\u001b[39m)\n\u001b[0;32m     97\u001b[0m \u001b[38;5;66;03m# pylint: enable=wildcard-import,g-import-not-at-top,unused-import,line-too-long\u001b[39;00m\n",
            "\u001b[1;31mImportError\u001b[0m: Traceback (most recent call last):\n  File \"c:\\Program Files\\Python312\\Lib\\site-packages\\tensorflow\\python\\pywrap_tensorflow.py\", line 73, in <module>\n    from tensorflow.python._pywrap_tensorflow_internal import *\nImportError: DLL load failed while importing _pywrap_tensorflow_internal: A dynamic link library (DLL) initialization routine failed.\n\n\nFailed to load the native TensorFlow runtime.\nSee https://www.tensorflow.org/install/errors for some common causes and solutions.\nIf you need help, create an issue at https://github.com/tensorflow/tensorflow/issues and include the entire stack trace above this error message."
          ]
        }
      ],
      "source": [
        "import tensorflow as tf\n",
        "print(tf.__version__)"
      ]
    },
    {
      "cell_type": "code",
      "execution_count": null,
      "metadata": {
        "id": "k4nKifUl0XGC"
      },
      "outputs": [],
      "source": [
        "##tensorflow >2.0\n",
        "from tensorflow.keras.preprocessing.text import one_hot\n",
        "\n",
        "\n",
        "### sentences\n",
        "sent=[  'the glass of milk',\n",
        "     'the glass of juice',\n",
        "     'the cup of tea',\n",
        "    'I am a good boy',\n",
        "     'I am a good developer',\n",
        "     'understand the meaning of words',\n",
        "     'your videos are good']\n",
        "\n",
        "### Vocabulary size\n",
        "voc_size=10000     "
      ]
    },
    {
      "cell_type": "code",
      "execution_count": null,
      "metadata": {
        "colab": {
          "base_uri": "https://localhost:8080/"
        },
        "id": "x5d1D3_20XGD",
        "outputId": "3e3abb89-c992-4620-b332-696d5728fa3d"
      },
      "outputs": [
        {
          "data": {
            "text/plain": [
              "['the glass of milk',\n",
              " 'the glass of juice',\n",
              " 'the cup of tea',\n",
              " 'I am a good boy',\n",
              " 'I am a good developer',\n",
              " 'understand the meaning of words',\n",
              " 'your videos are good']"
            ]
          },
          "execution_count": 7,
          "metadata": {},
          "output_type": "execute_result"
        }
      ],
      "source": [
        "sent"
      ]
    },
    {
      "cell_type": "markdown",
      "metadata": {
        "id": "-vQOdeKk0XGE"
      },
      "source": [
        "#### One Hot Representation"
      ]
    },
    {
      "cell_type": "code",
      "execution_count": null,
      "metadata": {
        "colab": {
          "base_uri": "https://localhost:8080/"
        },
        "id": "gojfZpAW0XGE",
        "outputId": "edd9dce0-84d3-4fe5-a371-121ccdb726bc"
      },
      "outputs": [
        {
          "name": "stdout",
          "output_type": "stream",
          "text": [
            "[[1478, 3868, 8477, 8922], [1478, 3868, 8477, 1860], [1478, 1150, 8477, 7886], [7656, 3058, 8932, 8067, 1582], [7656, 3058, 8932, 8067, 4551], [6759, 1478, 8219, 8477, 9504], [2124, 6253, 4986, 8067]]\n"
          ]
        }
      ],
      "source": [
        "onehot_repr=[one_hot(words,voc_size)for words in sent]\n",
        "print(onehot_repr)"
      ]
    },
    {
      "cell_type": "markdown",
      "metadata": {
        "id": "eYG267x40XGF"
      },
      "source": [
        "### Word Embedding Representation"
      ]
    },
    {
      "cell_type": "code",
      "execution_count": null,
      "metadata": {
        "id": "wpqPm0tb0XGF"
      },
      "outputs": [],
      "source": [
        "from tensorflow.keras.layers import Embedding\n",
        "from tensorflow.keras.preprocessing.sequence import pad_sequences\n",
        "from tensorflow.keras.models import Sequential\n",
        "import numpy as np"
      ]
    },
    {
      "cell_type": "code",
      "execution_count": null,
      "metadata": {
        "colab": {
          "base_uri": "https://localhost:8080/"
        },
        "id": "8fQLPw6p0XGG",
        "outputId": "ce86ec66-da15-4988-e300-ff72eeb229ff"
      },
      "outputs": [
        {
          "name": "stdout",
          "output_type": "stream",
          "text": [
            "[[   0    0    0    0 1478 3868 8477 8922]\n",
            " [   0    0    0    0 1478 3868 8477 1860]\n",
            " [   0    0    0    0 1478 1150 8477 7886]\n",
            " [   0    0    0 7656 3058 8932 8067 1582]\n",
            " [   0    0    0 7656 3058 8932 8067 4551]\n",
            " [   0    0    0 6759 1478 8219 8477 9504]\n",
            " [   0    0    0    0 2124 6253 4986 8067]]\n"
          ]
        }
      ],
      "source": [
        "## pre padding\n",
        "sent_length=8\n",
        "embedded_docs=pad_sequences(onehot_repr,padding='pre',maxlen=sent_length)\n",
        "print(embedded_docs)"
      ]
    },
    {
      "cell_type": "code",
      "execution_count": null,
      "metadata": {
        "id": "yjQqBYac0XGG"
      },
      "outputs": [],
      "source": [
        "## 10 feature dimesnions for each word/value(token)\n",
        "dim=10"
      ]
    },
    {
      "cell_type": "code",
      "execution_count": null,
      "metadata": {
        "id": "ozC-TXrt0XGG"
      },
      "outputs": [],
      "source": [
        "voc_size=500\n",
        "model=Sequential()\n",
        "model.add(Embedding(voc_size,10,input_length=sent_length))#works like word2vec\n",
        "model.compile('adam','mse')#passed the optimizer and the evaluation metrics i.e loss function"
      ]
    },
    {
      "cell_type": "code",
      "execution_count": null,
      "metadata": {},
      "outputs": [],
      "source": [
        "awsdfg "
      ]
    },
    {
      "cell_type": "code",
      "execution_count": null,
      "metadata": {
        "colab": {
          "base_uri": "https://localhost:8080/"
        },
        "id": "tMNvq-Ji0XGH",
        "outputId": "8bde65d1-06cf-4f8b-9767-28077ff2aeca"
      },
      "outputs": [
        {
          "data": {
            "text/html": [
              "<pre style=\"white-space:pre;overflow-x:auto;line-height:normal;font-family:Menlo,'DejaVu Sans Mono',consolas,'Courier New',monospace\"><span style=\"font-weight: bold\">Model: \"sequential_1\"</span>\n",
              "</pre>\n"
            ],
            "text/plain": [
              "\u001b[1mModel: \"sequential_1\"\u001b[0m\n"
            ]
          },
          "metadata": {},
          "output_type": "display_data"
        },
        {
          "data": {
            "text/html": [
              "<pre style=\"white-space:pre;overflow-x:auto;line-height:normal;font-family:Menlo,'DejaVu Sans Mono',consolas,'Courier New',monospace\">┏━━━━━━━━━━━━━━━━━━━━━━━━━━━━━━━━━┳━━━━━━━━━━━━━━━━━━━━━━━━┳━━━━━━━━━━━━━━━┓\n",
              "┃<span style=\"font-weight: bold\"> Layer (type)                    </span>┃<span style=\"font-weight: bold\"> Output Shape           </span>┃<span style=\"font-weight: bold\">       Param # </span>┃\n",
              "┡━━━━━━━━━━━━━━━━━━━━━━━━━━━━━━━━━╇━━━━━━━━━━━━━━━━━━━━━━━━╇━━━━━━━━━━━━━━━┩\n",
              "│ embedding_1 (<span style=\"color: #0087ff; text-decoration-color: #0087ff\">Embedding</span>)         │ ?                      │   <span style=\"color: #00af00; text-decoration-color: #00af00\">0</span> (unbuilt) │\n",
              "└─────────────────────────────────┴────────────────────────┴───────────────┘\n",
              "</pre>\n"
            ],
            "text/plain": [
              "┏━━━━━━━━━━━━━━━━━━━━━━━━━━━━━━━━━┳━━━━━━━━━━━━━━━━━━━━━━━━┳━━━━━━━━━━━━━━━┓\n",
              "┃\u001b[1m \u001b[0m\u001b[1mLayer (type)                   \u001b[0m\u001b[1m \u001b[0m┃\u001b[1m \u001b[0m\u001b[1mOutput Shape          \u001b[0m\u001b[1m \u001b[0m┃\u001b[1m \u001b[0m\u001b[1m      Param #\u001b[0m\u001b[1m \u001b[0m┃\n",
              "┡━━━━━━━━━━━━━━━━━━━━━━━━━━━━━━━━━╇━━━━━━━━━━━━━━━━━━━━━━━━╇━━━━━━━━━━━━━━━┩\n",
              "│ embedding_1 (\u001b[38;5;33mEmbedding\u001b[0m)         │ ?                      │   \u001b[38;5;34m0\u001b[0m (unbuilt) │\n",
              "└─────────────────────────────────┴────────────────────────┴───────────────┘\n"
            ]
          },
          "metadata": {},
          "output_type": "display_data"
        },
        {
          "data": {
            "text/html": [
              "<pre style=\"white-space:pre;overflow-x:auto;line-height:normal;font-family:Menlo,'DejaVu Sans Mono',consolas,'Courier New',monospace\"><span style=\"font-weight: bold\"> Total params: </span><span style=\"color: #00af00; text-decoration-color: #00af00\">0</span> (0.00 B)\n",
              "</pre>\n"
            ],
            "text/plain": [
              "\u001b[1m Total params: \u001b[0m\u001b[38;5;34m0\u001b[0m (0.00 B)\n"
            ]
          },
          "metadata": {},
          "output_type": "display_data"
        },
        {
          "data": {
            "text/html": [
              "<pre style=\"white-space:pre;overflow-x:auto;line-height:normal;font-family:Menlo,'DejaVu Sans Mono',consolas,'Courier New',monospace\"><span style=\"font-weight: bold\"> Trainable params: </span><span style=\"color: #00af00; text-decoration-color: #00af00\">0</span> (0.00 B)\n",
              "</pre>\n"
            ],
            "text/plain": [
              "\u001b[1m Trainable params: \u001b[0m\u001b[38;5;34m0\u001b[0m (0.00 B)\n"
            ]
          },
          "metadata": {},
          "output_type": "display_data"
        },
        {
          "data": {
            "text/html": [
              "<pre style=\"white-space:pre;overflow-x:auto;line-height:normal;font-family:Menlo,'DejaVu Sans Mono',consolas,'Courier New',monospace\"><span style=\"font-weight: bold\"> Non-trainable params: </span><span style=\"color: #00af00; text-decoration-color: #00af00\">0</span> (0.00 B)\n",
              "</pre>\n"
            ],
            "text/plain": [
              "\u001b[1m Non-trainable params: \u001b[0m\u001b[38;5;34m0\u001b[0m (0.00 B)\n"
            ]
          },
          "metadata": {},
          "output_type": "display_data"
        }
      ],
      "source": [
        "model.summary()"
      ]
    },
    {
      "cell_type": "code",
      "execution_count": null,
      "metadata": {
        "colab": {
          "base_uri": "https://localhost:8080/"
        },
        "id": "FC4Ess_FEcb3",
        "outputId": "e35d2a7c-ff4b-4332-c2c2-dc32249595a6"
      },
      "outputs": [
        {
          "data": {
            "text/plain": [
              "array([  0,   0,   0,   0, 180, 405, 264,  53], dtype=int32)"
            ]
          },
          "execution_count": 20,
          "metadata": {},
          "output_type": "execute_result"
        }
      ],
      "source": [
        "##'the glass of milk',\n",
        "embedded_docs[0]"
      ]
    },
    {
      "cell_type": "code",
      "execution_count": null,
      "metadata": {
        "colab": {
          "base_uri": "https://localhost:8080/"
        },
        "id": "bRqEvMBYEZUS",
        "outputId": "021bd422-238e-4a3f-daa2-09323ef3153a"
      },
      "outputs": [
        {
          "name": "stdout",
          "output_type": "stream",
          "text": [
            "WARNING:tensorflow:Model was constructed with shape (None, 8) for input KerasTensor(type_spec=TensorSpec(shape=(None, 8), dtype=tf.float32, name='embedding_input'), name='embedding_input', description=\"created by layer 'embedding_input'\"), but it was called on an input with incompatible shape (None,).\n",
            "1/1 [==============================] - 0s 72ms/step\n"
          ]
        },
        {
          "data": {
            "text/plain": [
              "array([[ 0.03938437, -0.02009605, -0.03878935, -0.04955565,  0.00419912,\n",
              "        -0.01431773,  0.02523251,  0.01653036,  0.04291571, -0.00864979],\n",
              "       [ 0.03938437, -0.02009605, -0.03878935, -0.04955565,  0.00419912,\n",
              "        -0.01431773,  0.02523251,  0.01653036,  0.04291571, -0.00864979],\n",
              "       [ 0.03938437, -0.02009605, -0.03878935, -0.04955565,  0.00419912,\n",
              "        -0.01431773,  0.02523251,  0.01653036,  0.04291571, -0.00864979],\n",
              "       [ 0.03938437, -0.02009605, -0.03878935, -0.04955565,  0.00419912,\n",
              "        -0.01431773,  0.02523251,  0.01653036,  0.04291571, -0.00864979],\n",
              "       [ 0.03059326, -0.04286614,  0.00899569,  0.00743791, -0.000781  ,\n",
              "         0.04186494,  0.03977301,  0.00326709,  0.00619651, -0.01993654],\n",
              "       [ 0.02512412, -0.0087087 ,  0.03144198,  0.00704668, -0.00177735,\n",
              "        -0.03415867, -0.00100178,  0.01562483,  0.03178963,  0.02784893],\n",
              "       [-0.00653008,  0.02340979, -0.01967902, -0.00494973, -0.02693756,\n",
              "        -0.03746525,  0.01460877, -0.00449115, -0.00130982, -0.0039017 ],\n",
              "       [-0.03150218,  0.01950303, -0.01415605, -0.00183152,  0.01207731,\n",
              "         0.02444079,  0.0140041 ,  0.0070256 ,  0.04950741, -0.03602346]],\n",
              "      dtype=float32)"
            ]
          },
          "execution_count": 21,
          "metadata": {},
          "output_type": "execute_result"
        }
      ],
      "source": [
        "model.predict(embedded_docs[0])"
      ]
    },
    {
      "cell_type": "code",
      "execution_count": null,
      "metadata": {
        "colab": {
          "base_uri": "https://localhost:8080/"
        },
        "id": "kzKP69gx0XGH",
        "outputId": "4558c7ab-6692-4aa3-b958-e7bbfeb0474d"
      },
      "outputs": [
        {
          "name": "stdout",
          "output_type": "stream",
          "text": [
            "1/1 [==============================] - 0s 31ms/step\n",
            "[[[ 0.03938437 -0.02009605 -0.03878935 -0.04955565  0.00419912\n",
            "   -0.01431773  0.02523251  0.01653036  0.04291571 -0.00864979]\n",
            "  [ 0.03938437 -0.02009605 -0.03878935 -0.04955565  0.00419912\n",
            "   -0.01431773  0.02523251  0.01653036  0.04291571 -0.00864979]\n",
            "  [ 0.03938437 -0.02009605 -0.03878935 -0.04955565  0.00419912\n",
            "   -0.01431773  0.02523251  0.01653036  0.04291571 -0.00864979]\n",
            "  [ 0.03938437 -0.02009605 -0.03878935 -0.04955565  0.00419912\n",
            "   -0.01431773  0.02523251  0.01653036  0.04291571 -0.00864979]\n",
            "  [ 0.03059326 -0.04286614  0.00899569  0.00743791 -0.000781\n",
            "    0.04186494  0.03977301  0.00326709  0.00619651 -0.01993654]\n",
            "  [ 0.02512412 -0.0087087   0.03144198  0.00704668 -0.00177735\n",
            "   -0.03415867 -0.00100178  0.01562483  0.03178963  0.02784893]\n",
            "  [-0.00653008  0.02340979 -0.01967902 -0.00494973 -0.02693756\n",
            "   -0.03746525  0.01460877 -0.00449115 -0.00130982 -0.0039017 ]\n",
            "  [-0.03150218  0.01950303 -0.01415605 -0.00183152  0.01207731\n",
            "    0.02444079  0.0140041   0.0070256   0.04950741 -0.03602346]]\n",
            "\n",
            " [[ 0.03938437 -0.02009605 -0.03878935 -0.04955565  0.00419912\n",
            "   -0.01431773  0.02523251  0.01653036  0.04291571 -0.00864979]\n",
            "  [ 0.03938437 -0.02009605 -0.03878935 -0.04955565  0.00419912\n",
            "   -0.01431773  0.02523251  0.01653036  0.04291571 -0.00864979]\n",
            "  [ 0.03938437 -0.02009605 -0.03878935 -0.04955565  0.00419912\n",
            "   -0.01431773  0.02523251  0.01653036  0.04291571 -0.00864979]\n",
            "  [ 0.03938437 -0.02009605 -0.03878935 -0.04955565  0.00419912\n",
            "   -0.01431773  0.02523251  0.01653036  0.04291571 -0.00864979]\n",
            "  [ 0.03059326 -0.04286614  0.00899569  0.00743791 -0.000781\n",
            "    0.04186494  0.03977301  0.00326709  0.00619651 -0.01993654]\n",
            "  [ 0.02512412 -0.0087087   0.03144198  0.00704668 -0.00177735\n",
            "   -0.03415867 -0.00100178  0.01562483  0.03178963  0.02784893]\n",
            "  [-0.00653008  0.02340979 -0.01967902 -0.00494973 -0.02693756\n",
            "   -0.03746525  0.01460877 -0.00449115 -0.00130982 -0.0039017 ]\n",
            "  [-0.0434371   0.01733501 -0.0254814   0.03025435 -0.0460149\n",
            "    0.00874413  0.04856688  0.03454936 -0.02982813 -0.00472248]]\n",
            "\n",
            " [[ 0.03938437 -0.02009605 -0.03878935 -0.04955565  0.00419912\n",
            "   -0.01431773  0.02523251  0.01653036  0.04291571 -0.00864979]\n",
            "  [ 0.03938437 -0.02009605 -0.03878935 -0.04955565  0.00419912\n",
            "   -0.01431773  0.02523251  0.01653036  0.04291571 -0.00864979]\n",
            "  [ 0.03938437 -0.02009605 -0.03878935 -0.04955565  0.00419912\n",
            "   -0.01431773  0.02523251  0.01653036  0.04291571 -0.00864979]\n",
            "  [ 0.03938437 -0.02009605 -0.03878935 -0.04955565  0.00419912\n",
            "   -0.01431773  0.02523251  0.01653036  0.04291571 -0.00864979]\n",
            "  [ 0.03059326 -0.04286614  0.00899569  0.00743791 -0.000781\n",
            "    0.04186494  0.03977301  0.00326709  0.00619651 -0.01993654]\n",
            "  [-0.0165449  -0.0245487  -0.04049651 -0.03379797  0.03827978\n",
            "   -0.01891239  0.03935272  0.03601534  0.04047254  0.02626738]\n",
            "  [-0.00653008  0.02340979 -0.01967902 -0.00494973 -0.02693756\n",
            "   -0.03746525  0.01460877 -0.00449115 -0.00130982 -0.0039017 ]\n",
            "  [-0.01796211  0.03012553  0.02499587 -0.03019696 -0.02619814\n",
            "   -0.04370998  0.02499839  0.0259905  -0.02895923 -0.03277919]]\n",
            "\n",
            " [[ 0.03938437 -0.02009605 -0.03878935 -0.04955565  0.00419912\n",
            "   -0.01431773  0.02523251  0.01653036  0.04291571 -0.00864979]\n",
            "  [ 0.03938437 -0.02009605 -0.03878935 -0.04955565  0.00419912\n",
            "   -0.01431773  0.02523251  0.01653036  0.04291571 -0.00864979]\n",
            "  [ 0.03938437 -0.02009605 -0.03878935 -0.04955565  0.00419912\n",
            "   -0.01431773  0.02523251  0.01653036  0.04291571 -0.00864979]\n",
            "  [ 0.0455125  -0.01906607 -0.01224751 -0.00509113 -0.02193579\n",
            "   -0.01053187 -0.02626517 -0.00871019  0.04797108  0.01489766]\n",
            "  [ 0.01335182 -0.03833141  0.01346098  0.02035983 -0.03607824\n",
            "   -0.03206537  0.02643689  0.03777478 -0.00899317  0.01333355]\n",
            "  [-0.00676087  0.03904044  0.00479779 -0.02978393  0.02397071\n",
            "    0.03766178 -0.0092328  -0.03824631 -0.03726087  0.04569164]\n",
            "  [-0.04575538  0.04188532  0.01740856 -0.00267079 -0.00815887\n",
            "   -0.04747143 -0.02846756 -0.00109354 -0.00825974  0.03024724]\n",
            "  [ 0.01152636  0.04342527  0.0201059   0.0143644  -0.0240415\n",
            "    0.01083563 -0.03891394  0.03182233 -0.04408182 -0.00053762]]\n",
            "\n",
            " [[ 0.03938437 -0.02009605 -0.03878935 -0.04955565  0.00419912\n",
            "   -0.01431773  0.02523251  0.01653036  0.04291571 -0.00864979]\n",
            "  [ 0.03938437 -0.02009605 -0.03878935 -0.04955565  0.00419912\n",
            "   -0.01431773  0.02523251  0.01653036  0.04291571 -0.00864979]\n",
            "  [ 0.03938437 -0.02009605 -0.03878935 -0.04955565  0.00419912\n",
            "   -0.01431773  0.02523251  0.01653036  0.04291571 -0.00864979]\n",
            "  [ 0.0455125  -0.01906607 -0.01224751 -0.00509113 -0.02193579\n",
            "   -0.01053187 -0.02626517 -0.00871019  0.04797108  0.01489766]\n",
            "  [ 0.01335182 -0.03833141  0.01346098  0.02035983 -0.03607824\n",
            "   -0.03206537  0.02643689  0.03777478 -0.00899317  0.01333355]\n",
            "  [-0.00676087  0.03904044  0.00479779 -0.02978393  0.02397071\n",
            "    0.03766178 -0.0092328  -0.03824631 -0.03726087  0.04569164]\n",
            "  [-0.04575538  0.04188532  0.01740856 -0.00267079 -0.00815887\n",
            "   -0.04747143 -0.02846756 -0.00109354 -0.00825974  0.03024724]\n",
            "  [-0.04356548  0.02670497 -0.0180442  -0.00757015  0.00827466\n",
            "    0.01629097  0.00119376 -0.04088793  0.03524628  0.0412981 ]]\n",
            "\n",
            " [[ 0.03938437 -0.02009605 -0.03878935 -0.04955565  0.00419912\n",
            "   -0.01431773  0.02523251  0.01653036  0.04291571 -0.00864979]\n",
            "  [ 0.03938437 -0.02009605 -0.03878935 -0.04955565  0.00419912\n",
            "   -0.01431773  0.02523251  0.01653036  0.04291571 -0.00864979]\n",
            "  [ 0.03938437 -0.02009605 -0.03878935 -0.04955565  0.00419912\n",
            "   -0.01431773  0.02523251  0.01653036  0.04291571 -0.00864979]\n",
            "  [-0.04503573 -0.01525755  0.0247951   0.0397242  -0.01098786\n",
            "   -0.01889135  0.01474792  0.01420038  0.01264313 -0.02099638]\n",
            "  [ 0.03059326 -0.04286614  0.00899569  0.00743791 -0.000781\n",
            "    0.04186494  0.03977301  0.00326709  0.00619651 -0.01993654]\n",
            "  [-0.00189289 -0.01293756  0.01065254  0.00630366  0.02548606\n",
            "   -0.02246332 -0.03166081  0.0488782   0.04733732 -0.00055351]\n",
            "  [-0.00653008  0.02340979 -0.01967902 -0.00494973 -0.02693756\n",
            "   -0.03746525  0.01460877 -0.00449115 -0.00130982 -0.0039017 ]\n",
            "  [ 0.01523279  0.03147752 -0.00877231 -0.04363536  0.02689752\n",
            "    0.0303895   0.03939242 -0.01938576  0.03533088  0.04882917]]\n",
            "\n",
            " [[ 0.03938437 -0.02009605 -0.03878935 -0.04955565  0.00419912\n",
            "   -0.01431773  0.02523251  0.01653036  0.04291571 -0.00864979]\n",
            "  [ 0.03938437 -0.02009605 -0.03878935 -0.04955565  0.00419912\n",
            "   -0.01431773  0.02523251  0.01653036  0.04291571 -0.00864979]\n",
            "  [ 0.03938437 -0.02009605 -0.03878935 -0.04955565  0.00419912\n",
            "   -0.01431773  0.02523251  0.01653036  0.04291571 -0.00864979]\n",
            "  [ 0.03938437 -0.02009605 -0.03878935 -0.04955565  0.00419912\n",
            "   -0.01431773  0.02523251  0.01653036  0.04291571 -0.00864979]\n",
            "  [ 0.02216006 -0.03527117 -0.04675846 -0.01894816  0.03763377\n",
            "    0.03965045  0.04765204 -0.00806187 -0.01859087 -0.02574421]\n",
            "  [ 0.04836557 -0.01613583  0.00869457  0.02868301  0.0297311\n",
            "   -0.04792688  0.02694935 -0.02964565  0.03412347 -0.03255747]\n",
            "  [ 0.03478764 -0.0400234   0.01112056 -0.00944598  0.00491976\n",
            "    0.02883413 -0.00612055 -0.00938722  0.01297954 -0.00811065]\n",
            "  [-0.04575538  0.04188532  0.01740856 -0.00267079 -0.00815887\n",
            "   -0.04747143 -0.02846756 -0.00109354 -0.00825974  0.03024724]]]\n"
          ]
        }
      ],
      "source": [
        "print(model.predict(embedded_docs))"
      ]
    },
    {
      "cell_type": "code",
      "execution_count": null,
      "metadata": {
        "id": "JuUxfk7d0XGH",
        "outputId": "c28e6fc6-3db2-4975-9dd3-950b7da8c67e"
      },
      "outputs": [
        {
          "data": {
            "text/plain": [
              "array([   0,    0,    0,    0, 6654,  998, 8966, 1609])"
            ]
          },
          "execution_count": 37,
          "metadata": {},
          "output_type": "execute_result"
        }
      ],
      "source": [
        "embedded_docs[0]"
      ]
    },
    {
      "cell_type": "code",
      "execution_count": null,
      "metadata": {
        "id": "6JJ_zD0u0XGH",
        "outputId": "8b2b65cb-457b-46f4-dd60-c5fe8ab0566f"
      },
      "outputs": [
        {
          "name": "stdout",
          "output_type": "stream",
          "text": [
            "[[-0.00425554 -0.00159295 -0.04714153  0.04425247 -0.00973954 -0.04325813\n",
            "   0.04007108 -0.0143286  -0.03659749 -0.02379028]\n",
            " [-0.00425554 -0.00159295 -0.04714153  0.04425247 -0.00973954 -0.04325813\n",
            "   0.04007108 -0.0143286  -0.03659749 -0.02379028]\n",
            " [-0.00425554 -0.00159295 -0.04714153  0.04425247 -0.00973954 -0.04325813\n",
            "   0.04007108 -0.0143286  -0.03659749 -0.02379028]\n",
            " [-0.00425554 -0.00159295 -0.04714153  0.04425247 -0.00973954 -0.04325813\n",
            "   0.04007108 -0.0143286  -0.03659749 -0.02379028]\n",
            " [-0.03786323 -0.02628061  0.02974111 -0.03307171  0.0271405   0.00945134\n",
            "   0.02378127  0.04176904  0.00514941  0.0152082 ]\n",
            " [ 0.04834186  0.04388311 -0.02802253 -0.01475487 -0.01212303  0.03762435\n",
            "  -0.01166249 -0.02141088  0.04654533  0.01537322]\n",
            " [ 0.03276015 -0.00637691  0.03907344 -0.01912468  0.02177186 -0.04630325\n",
            "   0.00800942 -0.03115667 -0.00486455 -0.04843524]\n",
            " [-0.04173617  0.03438064  0.02880521 -0.01896455  0.0323303  -0.00109453\n",
            "  -0.01675171 -0.00941917 -0.03309294 -0.04779492]]\n"
          ]
        }
      ],
      "source": [
        "print(model.predict(embedded_docs)[0])"
      ]
    },
    {
      "cell_type": "code",
      "execution_count": null,
      "metadata": {
        "id": "8OMu3iAz0XGH"
      },
      "outputs": [],
      "source": [
        "### Assignment\n",
        "\n",
        "sent=[\"The world is a better place\",\n",
        "      \"Marvel series is my favourite movie\",\n",
        "      \"I like DC movies\",\n",
        "      \"the cat is eating the food\",\n",
        "      \"Tom and Jerry is my favourite movie\",\n",
        "      \"Python is my favourite programming language\"\n",
        "      ]"
      ]
    },
    {
      "cell_type": "code",
      "execution_count": null,
      "metadata": {},
      "outputs": [],
      "source": []
    }
  ],
  "metadata": {
    "accelerator": "GPU",
    "colab": {
      "provenance": []
    },
    "gpuClass": "standard",
    "kernelspec": {
      "display_name": "Python 3",
      "language": "python",
      "name": "python3"
    },
    "language_info": {
      "codemirror_mode": {
        "name": "ipython",
        "version": 3
      },
      "file_extension": ".py",
      "mimetype": "text/x-python",
      "name": "python",
      "nbconvert_exporter": "python",
      "pygments_lexer": "ipython3",
      "version": "3.12.3"
    }
  },
  "nbformat": 4,
  "nbformat_minor": 0
}
